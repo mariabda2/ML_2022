{
 "cells": [
  {
   "cell_type": "markdown",
   "metadata": {
    "colab_type": "text",
    "id": "view-in-github"
   },
   "source": [
    "<a href=\"https://colab.research.google.com/github/mariabda2/ML_2022/blob/main/clases/clase_05_Funciones_discriminantes_Gausianas.ipynb\" target=\"_parent\"><img src=\"https://colab.research.google.com/assets/colab-badge.svg\" alt=\"Open In Colab\"/></a>"
   ]
  },
  {
   "cell_type": "markdown",
   "metadata": {
    "id": "UZoRlOXziPTI"
   },
   "source": [
    "# **Modelos de clasificación empleando funciones de densidad Gausianas**"
   ]
  },
  {
   "cell_type": "code",
   "execution_count": null,
   "metadata": {
    "colab": {
     "base_uri": "https://localhost:8080/"
    },
    "id": "abhXxMk6iPTN",
    "outputId": "7d6648c8-1f31-4b32-ed63-f3fff0e489bb"
   },
   "outputs": [
    {
     "name": "stdout",
     "output_type": "stream",
     "text": [
      "replicating local resources\n"
     ]
    }
   ],
   "source": [
    "!wget --no-cache -O init.py -q https://raw.githubusercontent.com/mariabda2/ML_2022/main/init.py\n",
    "import init; init.init(force_download=False);"
   ]
  },
  {
   "cell_type": "code",
   "execution_count": null,
   "metadata": {
    "id": "bNRtWvgciPTQ"
   },
   "outputs": [],
   "source": [
    "# Bibliotecas\n",
    "\n",
    "%matplotlib inline\n",
    "import matplotlib.pyplot as plt\n",
    "from IPython.display import Image\n",
    "from matplotlib.colors import ListedColormap\n",
    "import seaborn as sbs\n",
    "\n",
    "import numpy as np\n",
    "\n",
    "import math\n",
    "from sklearn import datasets\n",
    "\n",
    "#Algunas advertencias que queremos evitar\n",
    "import warnings\n",
    "warnings.filterwarnings(\"always\")\n"
   ]
  },
  {
   "cell_type": "markdown",
   "metadata": {
    "id": "gOgXtqd3iPTR"
   },
   "source": [
    "El objetivo es encontrar las funciones de densidad de probabilidad $$p({\\bf{x}})$$ de las clases que permiten realizar la clasificación de una muestra con base en la probabilidad de que esa muestra pertenezca a una u otra clase."
   ]
  },
  {
   "cell_type": "code",
   "execution_count": null,
   "metadata": {
    "colab": {
     "base_uri": "https://localhost:8080/",
     "height": 265
    },
    "id": "BF2J712ZiPTS",
    "outputId": "881a4c6c-2c82-494f-9897-3d8f531681e8"
   },
   "outputs": [
    {
     "data": {
      "image/png": "[encoded data removed]",
      "text/plain": [
       "<Figure size 432x288 with 1 Axes>"
      ]
     },
     "metadata": {
      "needs_background": "light"
     },
     "output_type": "display_data"
    }
   ],
   "source": [
    "iris = datasets.load_iris()\n",
    "X, y = iris.data, iris.target\n",
    "X2 = X[:100][:,2:4]\n",
    "Y2 = y[:100]\n",
    "plt.scatter(X2[:,0], X2[:,1], c=Y2,cmap='Accent');"
   ]
  },
  {
   "cell_type": "markdown",
   "metadata": {
    "id": "lkDMzl0JiPTT"
   },
   "source": [
    "Si asumimos por ejemplo que la fdp de cada clase en la figura anterior la vamos a modelar usando funciones de probabilidad Gausianas, entonces la fdp de cada una estará dada por la función: "
   ]
  },
  {
   "cell_type": "markdown",
   "metadata": {
    "id": "8vnRByk1iPTU"
   },
   "source": [
    "$$p({\\bf{x}})=\\frac{1}{(2\\pi)^{d/2}\\left| \\Sigma \\right|^{1/2} } \\exp\\left[ -\\frac{1}{2} ({\\bf{x}} - {\\bf{\\mu}})^T \\Sigma^{-1} ({\\bf{x}} - {\\bf{\\mu}}) \\right]$$"
   ]
  },
  {
   "cell_type": "markdown",
   "metadata": {
    "id": "rESunRrJiPTV"
   },
   "source": [
    "Es necesario tener en cuenta que los problemas que estamos abordando son de múltiples variables de entrada, entonces la función Gausiana anterior corresponde a una función de varias variables, en donde $\\mu$ corresponde a un vector de medias, es decir un vector que contiene las medias de cada variable y $\\Sigma$ es la matriz de covarianza."
   ]
  },
  {
   "cell_type": "markdown",
   "metadata": {
    "id": "oGXBI5C_iPTW"
   },
   "source": [
    "$${\\bf{\\mu}} = \\{\\mu_1,\\mu_2,\\cdots,\\mu_d\\}, \\;\\; \\Sigma = \\begin{bmatrix}\n",
    "    \\sigma_1^2 & \\rho_{1,2} \\sigma_1 \\sigma_2 & \\rho_{1,3} \\sigma_1 \\sigma_3 & \\dots  & \\rho_{1,d} \\sigma_1 \\sigma_d \\\\\n",
    "    \\rho_{2,1} \\sigma_2 \\sigma_1 & \\sigma_2^2 & \\rho_{2,3} \\sigma_2 \\sigma_3 & \\dots  & \\rho_{2,d} \\sigma_2 \\sigma_d \\\\\n",
    "    \\vdots & \\vdots & \\vdots & \\ddots & \\vdots \\\\\n",
    "    \\rho_{d,1} \\sigma_d \\sigma_1 & \\rho_{d,2} \\sigma_d \\sigma_2 & \\rho_{d,3} \\sigma_d \\sigma_3 & \\dots  & \\sigma_d^2\n",
    "\\end{bmatrix} $$"
   ]
  },
  {
   "cell_type": "markdown",
   "metadata": {
    "id": "eXe6zQvniPTX"
   },
   "source": [
    "Una vez hemos decido que el modelo que reprsentará cada clase será un fdp Gausiana, podemos utilizar el criterio de Máxima Verosimilitud visto antes para estimar los parámetros de la función. Si tenemos $N$ muestras i.i.d. ${\\bf{x}}_i \\sim {\\mathcal{N}}({\\bf{\\mu}},\\Sigma)$, entonces los parámetros de la función de densidad se pueden estimar a partir del criterio ML como:"
   ]
  },
  {
   "cell_type": "markdown",
   "metadata": {
    "id": "hti_VfGwiPTZ"
   },
   "source": [
    "$$\\hat{\\mu} = \\frac{1}{N}\\sum_{i=1}^{N} {\\bf{x}}_i$$"
   ]
  },
  {
   "cell_type": "markdown",
   "metadata": {
    "id": "tiGpqfRliPTc"
   },
   "source": [
    "$$\\hat{\\Sigma} = \\frac{1}{N}\\sum_{i=1}^{N} ({\\bf{x}}_i - \\hat{\\mu})({\\bf{x}}_i - \\hat{\\mu})^T$$"
   ]
  },
  {
   "cell_type": "markdown",
   "metadata": {
    "id": "zfyGS2n6iPTd"
   },
   "source": [
    "Si el modelo de clasificación que pretendemos implementar corresponde entonces a un modelo basado en funciones discriminantes Gausianas, el procedimiento que debemos seguir es el siguiente:"
   ]
  },
  {
   "cell_type": "markdown",
   "metadata": {
    "id": "NGxDbd_biPTe"
   },
   "source": [
    "## **Entrenamiento**"
   ]
  },
  {
   "cell_type": "markdown",
   "metadata": {
    "id": "ALBAMIJ0iPTf"
   },
   "source": [
    "<li>Tomar el conjunto de muestras de entrenamiento y separarlas en $C$ subconjuntos, donde $C$ es el número de clases a reconocer, es decir que cada subconjunto contiene únicamente muestras de una clase. </li>\n",
    "<li>Utilizar cada uno de los subconjuntos y estimar los valores del vector de medias y la matriz de covarianza.</li>\n",
    "<li>Con los valores de media y covarianza definir una función $p$ (Ecuación 1.), para cada una de las clases.</li>\n"
   ]
  },
  {
   "cell_type": "markdown",
   "metadata": {
    "id": "1LbwY0zBiPTh"
   },
   "source": [
    "## **Procedimiento para clasificar una nueva muestra**"
   ]
  },
  {
   "cell_type": "markdown",
   "metadata": {
    "id": "7-oN70ihiPTh"
   },
   "source": [
    "Cuando al sistema ingrese una nueva muestra, es decir un vector ${\\bf{x}}$* , para el que no conocemos su clase y deseamos predecirla, deberemos entonces:\n",
    "<li>Evaluar ${\\bf{x}}^*$ en cada una de las funciones $p_j$, para cada una las clases, $j=1,...,C$. Con esto vamos a establecer la probabilidad de que la muestra nueva pertenezca a cada una de las clases, de acuerdo con el modelo que hemos asumido (Gausiano)</li>\n",
    "<li>La clase asignada a la muestra ${\\bf{x}}^*$, será la clase para la cual la probabilidad sea mayor.</li>"
   ]
  },
  {
   "cell_type": "markdown",
   "metadata": {
    "id": "RoLcxZGYiPTj"
   },
   "source": [
    "$$C* = \\mathop {\\arg \\max }\\limits_k p_k({\\bf{x}}^*)$$"
   ]
  },
  {
   "cell_type": "markdown",
   "metadata": {
    "id": "LJIb7lDkvj_p"
   },
   "source": [
    "**Criterio máxima verosimilitud**\n",
    "<br> Sea $X_1,...,X_n$ independientes e \n",
    "idénticamente distribuidas con función de densidad de probabilidad $p(x;\\theta)$, entonces la **función de verosimilitud** se define como:\n",
    "$$\\mathcal{L}(\\theta) = \\prod_{í=1}^n p(x_i;\\theta).$$\n",
    "\n",
    "y la **log-verosimilitud** se define como \n",
    "$$\\mathcal{l}(\\theta)=\\log \\mathcal{L}(\\theta)=\\sum_{i=1}^n \\log p(x_i; \\theta)$$"
   ]
  },
  {
   "cell_type": "markdown",
   "metadata": {
    "id": "jObxD231iPTj"
   },
   "source": [
    "Si aplicamos este método al conjunto de muestras de la primera figura obtendremos la siguiente frontera de clasificación:"
   ]
  },
  {
   "cell_type": "code",
   "execution_count": null,
   "metadata": {
    "id": "YGL2cABgiPTk"
   },
   "outputs": [],
   "source": [
    "def DistribucionGaussiana(X,Mu,Sigma):\n",
    "    \n",
    "    d = X.shape[1]\n",
    "    SigmaInversa = np.linalg.inv(np.array(Sigma))\n",
    "    PrimerTermino = (1/(((2*math.pi)**(d/2))*math.sqrt(np.linalg.det(Sigma))))\n",
    "    \n",
    "    primerDot = np.dot((X-Mu),SigmaInversa)\n",
    "    segundoDot = np.dot(primerDot,(X-Mu).T)\n",
    "    Exponencial = math.exp(-0.5*segundoDot)\n",
    "    \n",
    "    Probabilidad = PrimerTermino * Exponencial\n",
    "    \n",
    "    return Probabilidad"
   ]
  },
  {
   "cell_type": "code",
   "execution_count": null,
   "metadata": {
    "id": "0r8xgYF0iPTl"
   },
   "outputs": [],
   "source": [
    "def FuncionDiscriminanteGaussiana(Tipo=1):\n",
    "    x_min, x_max = X[:, 2].min() - .1, X[:, 2].max() + .1\n",
    "    y_min, y_max = X[:, 3].min() - .1, X[:, 3].max() + .1\n",
    "    \n",
    "    xx, yy = np.meshgrid(np.linspace(x_min, x_max, 100),\n",
    "                         np.linspace(y_min, y_max, 100))\n",
    "    \n",
    "    #Estimación de medias y Covarianzas\n",
    "    Mu1 = np.mean(X2[:50,:], axis=0)\n",
    "    Mu2 = np.mean(X2[51:,:], axis=0)\n",
    "    \n",
    "    Sigma1 = np.cov((X2[:50,:]).T)\n",
    "    Sigma2 = np.cov((X2[51:,:]).T)\n",
    "    \n",
    "    Sigma3 = (0.5*(Sigma1+Sigma2))\n",
    "    \n",
    "    Z = np.zeros((100,100))\n",
    "    \n",
    "    #Evaluando las fdp's en una malla de valores\n",
    "    for i in range(100):\n",
    "        for j in range(100):\n",
    "            Xtem = np.array([xx[1,i],yy[j,1]])[np.newaxis]\n",
    "            \n",
    "            if Tipo == 0 :\n",
    "            \n",
    "                p1 = DistribucionGaussiana(Xtem,Mu1,Sigma1)\n",
    "                p2 = DistribucionGaussiana(Xtem,Mu2,Sigma2)\n",
    "            elif Tipo == 1:\n",
    "                p1 = DistribucionGaussiana(Xtem,Mu1,Sigma3)\n",
    "                p2 = DistribucionGaussiana(Xtem,Mu2,Sigma3)\n",
    "            if p1 >= p2:\n",
    "                Z[i,j] = 1\n",
    "            else:\n",
    "                Z[i,j] = 0\n",
    "    plt.figure()\n",
    "    plt.pcolormesh(xx, yy, Z.T, cmap='Accent')\n",
    "    plt.scatter(X2[:,0], X2[:,1], c=Y2)\n",
    "    plt.show()    "
   ]
  },
  {
   "cell_type": "code",
   "execution_count": null,
   "metadata": {
    "colab": {
     "base_uri": "https://localhost:8080/",
     "height": 314,
     "referenced_widgets": [
      "c1fbd909389a49fbb4207c801f8f88af",
      "6099af77a5c44a4f9682d0e541fc037e",
      "52400b89512044f8b4bc587da795456a",
      "f287c749adcd4dbeac995f95b9457805",
      "f2ec44414ee14489989843a2cd42db65",
      "c525de0e28694713bac4292c7b7c461e",
      "56bdeb741b9e4ebfa848f7b7c2efba24"
     ]
    },
    "id": "6nqe6cQviPTl",
    "outputId": "5f245450-bba5-4eb0-acc8-8f683519e3fa"
   },
   "outputs": [
    {
     "data": {
      "application/vnd.jupyter.widget-view+json": {
       "model_id": "c1fbd909389a49fbb4207c801f8f88af",
       "version_major": 2,
       "version_minor": 0
      },
      "text/plain": [
       "interactive(children=(Dropdown(description='Tipo', options=(('Igual Matriz de Covarianza', 1), ('Diferente Mat…"
      ]
     },
     "metadata": {},
     "output_type": "display_data"
    },
    {
     "data": {
      "text/plain": [
       "<function __main__.FuncionDiscriminanteGaussiana>"
      ]
     },
     "execution_count": 11,
     "metadata": {},
     "output_type": "execute_result"
    }
   ],
   "source": [
    "from ipywidgets import interact,interactive,fixed, interact_manual\n",
    "import ipywidgets as widgets\n",
    "\n",
    "interact(FuncionDiscriminanteGaussiana,Tipo=[('Igual Matriz de Covarianza', 1), ('Diferente Matriz de Covarianza', 0)])"
   ]
  },
  {
   "cell_type": "markdown",
   "metadata": {
    "id": "yVoUu7TDiPTm"
   },
   "source": [
    "----------------------------------------------------------------------------------------------------------------------------------------------"
   ]
  },
  {
   "cell_type": "code",
   "execution_count": null,
   "metadata": {
    "id": "jDK6asZkiPTn"
   },
   "outputs": [],
   "source": [
    "from matplotlib.patches import Ellipse\n",
    "def plot_ellipse(ax, mu ,sigma):\n",
    "\n",
    "    vals, vecs = np.linalg.eigh(sigma)\n",
    "    \n",
    "    x , y = vecs[:, 0]\n",
    "    theta = np.degrees(np.arctan2(y,x))\n",
    "    \n",
    "    w,h = 4* np.sqrt(vals)\n",
    "    \n",
    "    ax.tick_params(axis='both',which='major',labelsize=10)\n",
    "    ellipse = Ellipse(mu,w,h,theta,color='k')\n",
    "    ellipse.set_alpha(0.2)\n",
    "    ax.add_artist(ellipse)"
   ]
  },
  {
   "cell_type": "markdown",
   "metadata": {
    "id": "YyyfBevPiPTn"
   },
   "source": [
    "**El modelo anterior tiene tres posibles casos:**"
   ]
  },
  {
   "cell_type": "markdown",
   "metadata": {
    "id": "zMT7L4JMiPTn"
   },
   "source": [
    "## **Caso 1: Matriz de covarianza esférica** \n",
    "Si las matrices de covarianza se consideran de la forma: </b> \n",
    "\n",
    "$$\\Sigma = \\sigma^2 {\\bf{I}}$$\n",
    "\n",
    "</b> donde ${\\bf{I}}$ es la matriz identidad.\n",
    "\n",
    "En este caso lo que se asume es todas las características se consideran estadísticamente independientes y de igual varianza. Cada clase se considera como un grupo agrupado dentro de un círculo (hiperesfera) perfecto al rededor de su media."
   ]
  },
  {
   "cell_type": "code",
   "execution_count": null,
   "metadata": {
    "colab": {
     "base_uri": "https://localhost:8080/",
     "height": 267
    },
    "id": "KSoSqG04iPTn",
    "outputId": "3ea47cbf-a27f-4028-dd8c-72d04d3e530f",
    "scrolled": true
   },
   "outputs": [
    {
     "data": {
      "image/png": "[encoded data removed]",
      "text/plain": [
       "<Figure size 432x288 with 1 Axes>"
      ]
     },
     "metadata": {
      "needs_background": "light"
     },
     "output_type": "display_data"
    }
   ],
   "source": [
    "Cov = np.identity(2) * 1.1\n",
    "Mean = [1.1,2.1]\n",
    "Mean2 = [5.1,4.1]\n",
    "ax = plt.subplot(111)\n",
    "x, y  = np.random.multivariate_normal(Mean, Cov, 60).T\n",
    "x2, y2  = np.random.multivariate_normal(Mean2, Cov, 60).T\n",
    "ax.plot(x,y,'x')\n",
    "ax.plot(x2,y2,'x')\n",
    "ax.axis('equal')\n",
    "\n",
    "plot_ellipse(ax,Mean,Cov)\n",
    "plot_ellipse(ax,Mean2,Cov)"
   ]
  },
  {
   "cell_type": "markdown",
   "metadata": {
    "id": "EGD5yLV0iPTq"
   },
   "source": [
    "## **Caso 2: Matriz de covarianza diagonal** \n",
    "Si las matrices de covarianza se consideran diagonales. En este caso lo que se asume es todas las características se consideran estadísticamente independientes pero no de igual varinza. En este caso las clases se consideran agrupadas en parábolas cuyo eje principal puede estar a lo largo de cualquiera de las características. Este modelo es equivalente al clasificador conocido como <b>Naïve Bayes Classifier</b> o clasificador Bayesiano ingenuo (<mark>Consultar</mark>)."
   ]
  },
  {
   "cell_type": "markdown",
   "metadata": {
    "id": "_QIPX8kTiPTr"
   },
   "source": [
    "## **Caso 3: Matriz de covarianza completa** \n",
    "Es el caso más general, en el que las matrices de covarianza de los modelos se consideran completas y las clases se consideran agrupadas en parábolas cuyo eje principal puede estar en cualquier dirección, es por consiguiente el más flexible."
   ]
  },
  {
   "cell_type": "code",
   "execution_count": null,
   "metadata": {
    "colab": {
     "base_uri": "https://localhost:8080/",
     "height": 265
    },
    "id": "6sXBIQXAiPTs",
    "outputId": "b4ba5428-5abf-4123-d550-ea205e1fbf96"
   },
   "outputs": [
    {
     "data": {
      "image/png": "[encoded data removed]",
      "text/plain": [
       "<Figure size 432x288 with 1 Axes>"
      ]
     },
     "metadata": {
      "needs_background": "light"
     },
     "output_type": "display_data"
    }
   ],
   "source": [
    "Cov = [[1.1,0],[0,2.1]]\n",
    "Cov2 = [[4.1,2],[2,3.1]]\n",
    "Mean = [1.1,2.1]\n",
    "Mean2 = [5.1,4.1]\n",
    "ax = plt.subplot(111)\n",
    "x, y  = np.random.multivariate_normal(Mean, Cov, 60).T\n",
    "x2, y2  = np.random.multivariate_normal(Mean2, Cov2, 60).T\n",
    "ax.plot(x,y,'x')\n",
    "ax.plot(x2,y2,'x')\n",
    "ax.axis('equal')\n",
    "\n",
    "plot_ellipse(ax,Mean,Cov)\n",
    "plot_ellipse(ax,Mean2,Cov2)"
   ]
  },
  {
   "cell_type": "markdown",
   "metadata": {
    "id": "4c81B5iviPTt"
   },
   "source": [
    "Los tres casos anteriores corresponden a:"
   ]
  },
  {
   "cell_type": "code",
   "execution_count": null,
   "metadata": {
    "colab": {
     "base_uri": "https://localhost:8080/",
     "height": 281
    },
    "id": "G_-VO_UYiPTt",
    "outputId": "6fe0c49d-099e-4046-bfd3-d3b1f5a5f35a"
   },
   "outputs": [
    {
     "data": {
      "image/png": "[encoded data removed]",
      "text/plain": [
       "<Figure size 432x288 with 1 Axes>"
      ]
     },
     "metadata": {
      "needs_background": "light"
     },
     "output_type": "display_data"
    }
   ],
   "source": [
    "from sklearn.discriminant_analysis import LinearDiscriminantAnalysis\n",
    "from sklearn.discriminant_analysis import QuadraticDiscriminantAnalysis\n",
    "from sklearn.naive_bayes import GaussianNB\n",
    "\n",
    "clf1 = LinearDiscriminantAnalysis()\n",
    "clf1.fit(X2,Y2.flatten())\n",
    "clf2 = GaussianNB()\n",
    "clf2.fit(X2,Y2.flatten())\n",
    "clf3 = QuadraticDiscriminantAnalysis()\n",
    "clf3.fit(X2,Y2.flatten())\n",
    "plt.scatter(X2[:,0],X2[:,1],c=Y2.flatten(), cmap='Set2',alpha=0.5)\n",
    "\n",
    "h = .02  # step size in the mesh\n",
    "# create a mesh to plot in\n",
    "x_min, x_max = X2[:, 0].min() - 1, X2[:, 0].max() + 1\n",
    "y_min, y_max = X2[:, 1].min() - 1, X2[:, 1].max() + 1\n",
    "xx, yy = np.meshgrid(np.arange(x_min, x_max, h),np.arange(y_min, y_max, h))\n",
    "\n",
    "# Plot the decision boundary. For that, we will assign a color to each\n",
    "# point in the mesh [x_min, m_max]x[y_min, y_max].\n",
    "Z1 = clf1.predict(np.c_[xx.ravel(), yy.ravel()])\n",
    "Z2 = clf2.predict(np.c_[xx.ravel(), yy.ravel()])\n",
    "Z3 = clf3.predict(np.c_[xx.ravel(), yy.ravel()])\n",
    "\n",
    "# Put the result into a color plot\n",
    "Z1 = Z1.reshape(xx.shape)\n",
    "Z2 = Z2.reshape(xx.shape)\n",
    "Z3 = Z3.reshape(xx.shape)\n",
    "cs1 = plt.contour(xx, yy, Z1, colors='green')\n",
    "cs2 = plt.contour(xx, yy, Z2, colors='C0')\n",
    "cs3 = plt.contour(xx, yy, Z3, colors='darkorange')\n",
    "h1,_ = cs1.legend_elements()\n",
    "h2,_ = cs2.legend_elements()\n",
    "h3,_ = cs3.legend_elements()\n",
    "labels = ['Caso 1','Caso 2', 'Caso 3']\n",
    "plt.legend([h1[0], h2[0], h3[0]], ['Caso 1','Caso 2', 'Caso 3'])\n",
    "for i in range(len(labels)):\n",
    "    cs1.collections[i].set_label(labels[i])\n",
    "plt.xlabel('$x_1$')\n",
    "plt.ylabel('$x_2$')\n",
    "plt.grid()"
   ]
  },
  {
   "cell_type": "markdown",
   "metadata": {
    "id": "4_cVavjfiPTv"
   },
   "source": [
    "----------------------------------------------------------------------------------------------------------------------------------------------"
   ]
  },
  {
   "cell_type": "markdown",
   "metadata": {
    "id": "n1qtekFuiPTv"
   },
   "source": [
    "#### NOTA:"
   ]
  },
  {
   "cell_type": "markdown",
   "metadata": {
    "id": "lSRUVMuFiPTw"
   },
   "source": [
    "*   Modelo de clasificación <b>Generativo</b>, porque en la clasificación se realiza modelando cada clase de manera independiente, utilizando un modelo basado en funciones de densidad de probabilidad, que una vez ajustadas, se pueden usar como generadoras de muestras de cada una de las clases.  \n",
    "\n",
    "*   El modelo de clasificación basado en regresión logística, corresponde a un modelo de clasificación <b>Discriminativo</b> porque en ese caso, el modelo se entrenó con muestras de las dos clases al mismo tiempo y el objetivo no era describir una clase u otra, sino, diferenciarlas."
   ]
  }
 ],
 "metadata": {
  "colab": {
   "include_colab_link": true,
   "name": "clase_05_Funciones_discriminantes_Gausianas.ipynb",
   "provenance": []
  },
  "kernelspec": {
   "display_name": "Python 3 (ipykernel)",
   "language": "python",
   "name": "python3"
  },
  "language_info": {
   "codemirror_mode": {
    "name": "ipython",
    "version": 3
   },
   "file_extension": ".py",
   "mimetype": "text/x-python",
   "name": "python",
   "nbconvert_exporter": "python",
   "pygments_lexer": "ipython3",
   "version": "3.8.8"
  },
  "varInspector": {
   "cols": {
    "lenName": 16,
    "lenType": 16,
    "lenVar": 40
   },
   "kernels_config": {
    "python": {
     "delete_cmd_postfix": "",
     "delete_cmd_prefix": "del ",
     "library": "var_list.py",
     "varRefreshCmd": "print(var_dic_list())"
    },
    "r": {
     "delete_cmd_postfix": ") ",
     "delete_cmd_prefix": "rm(",
     "library": "var_list.r",
     "varRefreshCmd": "cat(var_dic_list()) "
    }
   },
   "types_to_exclude": [
    "module",
    "function",
    "builtin_function_or_method",
    "instance",
    "_Feature"
   ],
   "window_display": false
  }
 },
 "nbformat": 4,
 "nbformat_minor": 1
}
