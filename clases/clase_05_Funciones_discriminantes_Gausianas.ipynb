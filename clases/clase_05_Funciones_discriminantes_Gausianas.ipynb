{
  "cells": [
    {
      "cell_type": "markdown",
      "metadata": {
        "id": "UZoRlOXziPTI"
      },
      "source": [
        "# **Modelos de clasificación empleando funciones de densidad Gausianas**"
      ]
    },
    {
      "cell_type": "code",
      "execution_count": 14,
      "metadata": {
        "id": "abhXxMk6iPTN"
      },
      "outputs": [],
      "source": [
        "!wget --no-cache -O init.py -q https://raw.githubusercontent.com/mariabda2/ML_2022/main/init.py\n",
        "import init; init.init(force_download=False);"
      ]
    },
    {
      "cell_type": "code",
      "execution_count": 15,
      "metadata": {
        "id": "bNRtWvgciPTQ"
      },
      "outputs": [],
      "source": [
        "# Bibliotecas\n",
        "\n",
        "%matplotlib inline\n",
        "import matplotlib.pyplot as plt\n",
        "from IPython.display import Image\n",
        "from matplotlib.colors import ListedColormap\n",
        "import seaborn as sbs\n",
        "\n",
        "import numpy as np\n",
        "\n",
        "import math\n",
        "from sklearn import datasets\n",
        "\n",
        "#Algunas advertencias que queremos evitar\n",
        "import warnings\n",
        "warnings.filterwarnings(\"always\")\n"
      ]
    },
    {
      "cell_type": "markdown",
      "metadata": {
        "id": "gOgXtqd3iPTR"
      },
      "source": [
        "El objetivo es encontrar las funciones de densidad de probabilidad $$p({\\bf{x}})$$ de las clases que permiten realizar la clasificación de una muestra con base en la probabilidad de que esa muestra pertenezca a una u otra clase."
      ]
    },
    {
      "cell_type": "code",
      "execution_count": 16,
      "metadata": {
        "id": "BF2J712ZiPTS",
        "outputId": "e5f3a92a-c7b9-4436-f124-85c4bf6a2d09",
        "colab": {
          "base_uri": "https://localhost:8080/",
          "height": 265
        }
      },
      "outputs": [
        {
          "output_type": "display_data",
          "data": {
            "text/plain": [
              "<Figure size 432x288 with 1 Axes>"
            ],
            "image/png": "[encoded data removed]"
          },
          "metadata": {
            "needs_background": "light"
          }
        }
      ],
      "source": [
        "iris = datasets.load_iris()\n",
        "X, y = iris.data, iris.target\n",
        "X2 = X[:100][:,2:4]\n",
        "Y2 = y[:100]\n",
        "plt.scatter(X2[:,0], X2[:,1], c=Y2,cmap='Accent');"
      ]
    },
    {
      "cell_type": "markdown",
      "metadata": {
        "id": "lkDMzl0JiPTT"
      },
      "source": [
        "Si asumimos por ejemplo que la fdp de cada clase en la figura anterior la vamos a modelar usando funciones de probabilidad Gausianas, entonces la fdp de cada una estará dada por la función: "
      ]
    },
    {
      "cell_type": "markdown",
      "metadata": {
        "id": "8vnRByk1iPTU"
      },
      "source": [
        "$$p({\\bf{x}})=\\frac{1}{(2\\pi)^{d/2}\\left| \\Sigma \\right|^{1/2} } \\exp\\left[ -\\frac{1}{2} ({\\bf{x}} - {\\bf{\\mu}})^T \\Sigma^{-1} ({\\bf{x}} - {\\bf{\\mu}}) \\right]$$"
      ]
    },
    {
      "cell_type": "markdown",
      "metadata": {
        "id": "rESunRrJiPTV"
      },
      "source": [
        "Es necesario tener en cuenta que los problemas que estamos abordando son de múltiples variables de entrada, entonces la función Gausiana anterior corresponde a una función de varias variables, en donde $\\mu$ corresponde a un vector de medias, es decir un vector que contiene las medias de cada variable y $\\Sigma$ es la matriz de covarianza."
      ]
    },
    {
      "cell_type": "markdown",
      "metadata": {
        "id": "oGXBI5C_iPTW"
      },
      "source": [
        "$${\\bf{\\mu}} = \\{\\mu_1,\\mu_2,\\cdots,\\mu_d\\}, \\;\\; \\Sigma = \\begin{bmatrix}\n",
        "    \\sigma_1^2 & \\rho_{1,2} \\sigma_1 \\sigma_2 & \\rho_{1,3} \\sigma_1 \\sigma_3 & \\dots  & \\rho_{1,d} \\sigma_1 \\sigma_d \\\\\n",
        "    \\rho_{2,1} \\sigma_2 \\sigma_1 & \\sigma_2^2 & \\rho_{2,3} \\sigma_2 \\sigma_3 & \\dots  & \\rho_{2,d} \\sigma_2 \\sigma_d \\\\\n",
        "    \\vdots & \\vdots & \\vdots & \\ddots & \\vdots \\\\\n",
        "    \\rho_{d,1} \\sigma_d \\sigma_1 & \\rho_{d,2} \\sigma_d \\sigma_2 & \\rho_{d,3} \\sigma_d \\sigma_3 & \\dots  & \\sigma_d^2\n",
        "\\end{bmatrix} $$"
      ]
    },
    {
      "cell_type": "markdown",
      "metadata": {
        "id": "eXe6zQvniPTX"
      },
      "source": [
        "Una vez hemos decido que el modelo que reprsentará cada clase será un fdp Gausiana, podemos utilizar el criterio de Máxima Verosimilitud visto antes para estimar los parámetros de la función. Si tenemos $N$ muestras i.i.d. ${\\bf{x}}_i \\sim {\\mathcal{N}}({\\bf{\\mu}},\\Sigma)$, entonces los parámetros de la función de densidad se pueden estimar a partir del criterio ML como:"
      ]
    },
    {
      "cell_type": "markdown",
      "metadata": {
        "id": "hti_VfGwiPTZ"
      },
      "source": [
        "$$\\hat{\\mu} = \\frac{1}{N}\\sum_{i=1}^{N} {\\bf{x}}_i$$"
      ]
    },
    {
      "cell_type": "markdown",
      "metadata": {
        "id": "tiGpqfRliPTc"
      },
      "source": [
        "$$\\hat{\\Sigma} = \\frac{1}{N}\\sum_{i=1}^{N} ({\\bf{x}}_i - \\hat{\\mu})({\\bf{x}}_i - \\hat{\\mu})^T$$"
      ]
    },
    {
      "cell_type": "markdown",
      "metadata": {
        "id": "zfyGS2n6iPTd"
      },
      "source": [
        "Si el modelo de clasificación que pretendemos implementar corresponde entonces a un modelo basado en funciones discriminantes Gausianas, el procedimiento que debemos seguir es el siguiente:"
      ]
    },
    {
      "cell_type": "markdown",
      "metadata": {
        "id": "NGxDbd_biPTe"
      },
      "source": [
        "## **Entrenamiento**"
      ]
    },
    {
      "cell_type": "markdown",
      "metadata": {
        "id": "ALBAMIJ0iPTf"
      },
      "source": [
        "<li>Tomar el conjunto de muestras de entrenamiento y separarlas en $C$ subconjuntos, donde $C$ es el número de clases a reconocer, es decir que cada subconjunto contiene únicamente muestras de una clase. </li>\n",
        "<li>Utilizar cada uno de los subconjuntos y estimar los valores del vector de medias y la matriz de covarianza.</li>\n",
        "<li>Con los valores de media y covarianza definir una función $p$ (Ecuación 1.), para cada una de las clases.</li>\n"
      ]
    },
    {
      "cell_type": "markdown",
      "metadata": {
        "id": "1LbwY0zBiPTh"
      },
      "source": [
        "## **Procedimiento para clasificar una nueva muestra**"
      ]
    },
    {
      "cell_type": "markdown",
      "metadata": {
        "id": "7-oN70ihiPTh"
      },
      "source": [
        "Cuando al sistema ingrese una nueva muestra, es decir un vector ${\\bf{x}}$* , para el que no conocemos su clase y deseamos predecirla, deberemos entonces:\n",
        "<li>Evaluar ${\\bf{x}}^*$ en cada una de las funciones $p_j$, para cada una las clases, $j=1,...,C$. Con esto vamos a establecer la probabilidad de que la muestra nueva pertenezca a cada una de las clases, de acuerdo con el modelo que hemos asumido (Gausiano)</li>\n",
        "<li>La clase asignada a la muestra ${\\bf{x}}^*$, será la clase para la cual la probabilidad sea mayor.</li>"
      ]
    },
    {
      "cell_type": "markdown",
      "metadata": {
        "id": "RoLcxZGYiPTj"
      },
      "source": [
        "$$C* = \\mathop {\\arg \\max }\\limits_k p_k({\\bf{x}}^*)$$"
      ]
    },
    {
      "cell_type": "markdown",
      "metadata": {
        "id": "jObxD231iPTj"
      },
      "source": [
        "Si aplicamos este método al conjunto de muestras de la primera figura obtendremos la siguiente frontera de clasificación:"
      ]
    },
    {
      "cell_type": "code",
      "execution_count": 17,
      "metadata": {
        "id": "YGL2cABgiPTk"
      },
      "outputs": [],
      "source": [
        "def DistribucionGaussiana(X,Mu,Sigma):\n",
        "    \n",
        "    d = X.shape[1]\n",
        "    SigmaInversa = np.linalg.inv(np.array(Sigma))\n",
        "    PrimerTermino = (1/(((2*math.pi)**(d/2))*math.sqrt(np.linalg.det(Sigma))))\n",
        "    \n",
        "    primerDot = np.dot((X-Mu),SigmaInversa)\n",
        "    segundoDot = np.dot(primerDot,(X-Mu).T)\n",
        "    Exponencial = math.exp(-0.5*segundoDot)\n",
        "    \n",
        "    Probabilidad = PrimerTermino * Exponencial\n",
        "    \n",
        "    return Probabilidad"
      ]
    },
    {
      "cell_type": "code",
      "execution_count": 18,
      "metadata": {
        "id": "0r8xgYF0iPTl"
      },
      "outputs": [],
      "source": [
        "def FuncionDiscriminanteGaussiana(Tipo=1):\n",
        "    x_min, x_max = X[:, 2].min() - .1, X[:, 2].max() + .1\n",
        "    y_min, y_max = X[:, 3].min() - .1, X[:, 3].max() + .1\n",
        "    \n",
        "    xx, yy = np.meshgrid(np.linspace(x_min, x_max, 100),\n",
        "                         np.linspace(y_min, y_max, 100))\n",
        "    \n",
        "    #Estimación de medias y Covarianzas\n",
        "    Mu1 = np.mean(X2[:50,:], axis=0)\n",
        "    Mu2 = np.mean(X2[51:,:], axis=0)\n",
        "    \n",
        "    Sigma1 = np.cov((X2[:50,:]).T)\n",
        "    Sigma2 = np.cov((X2[51:,:]).T)\n",
        "    \n",
        "    Sigma3 = (0.5*(Sigma1+Sigma2))\n",
        "    \n",
        "    Z = np.zeros((100,100))\n",
        "    \n",
        "    #Evaluando las fdp's en una malla de valores\n",
        "    for i in range(100):\n",
        "        for j in range(100):\n",
        "            Xtem = np.array([xx[1,i],yy[j,1]])[np.newaxis]\n",
        "            \n",
        "            if Tipo == 0 :\n",
        "            \n",
        "                p1 = DistribucionGaussiana(Xtem,Mu1,Sigma1)\n",
        "                p2 = DistribucionGaussiana(Xtem,Mu2,Sigma2)\n",
        "            elif Tipo == 1:\n",
        "                p1 = DistribucionGaussiana(Xtem,Mu1,Sigma3)\n",
        "                p2 = DistribucionGaussiana(Xtem,Mu2,Sigma3)\n",
        "            if p1 >= p2:\n",
        "                Z[i,j] = 1\n",
        "            else:\n",
        "                Z[i,j] = 0\n",
        "    plt.figure()\n",
        "    plt.pcolormesh(xx, yy, Z.T, cmap='Accent')\n",
        "    plt.scatter(X2[:,0], X2[:,1], c=Y2)\n",
        "    plt.show()    "
      ]
    },
    {
      "cell_type": "code",
      "execution_count": 19,
      "metadata": {
        "colab": {
          "referenced_widgets": [
            "acc07130f1ce45c29674e3057f4ca26e",
            "258d4c3f40cd44fc80e2f9d10d82fcae",
            "a3963878ec5e4a86b1e02cf462a60c53",
            "02d5d5a65db44457bc44827adc398b54",
            "db8991326cba41e7973f0d2ff4bd314b",
            "bdb2f96fdb3644909dfc300089509684",
            "7f4fee6bfead409fa1c56de10b1c097a"
          ],
          "base_uri": "https://localhost:8080/",
          "height": 314
        },
        "id": "6nqe6cQviPTl",
        "outputId": "4efd7866-7af2-4a3b-9727-10c3a12b2121"
      },
      "outputs": [
        {
          "output_type": "display_data",
          "data": {
            "text/plain": [
              "interactive(children=(Dropdown(description='Tipo', options=(('Igual Matriz de Covarianza', 1), ('Diferente Mat…"
            ],
            "application/vnd.jupyter.widget-view+json": {
              "version_major": 2,
              "version_minor": 0,
              "model_id": "acc07130f1ce45c29674e3057f4ca26e"
            }
          },
          "metadata": {}
        },
        {
          "output_type": "execute_result",
          "data": {
            "text/plain": [
              "<function __main__.FuncionDiscriminanteGaussiana>"
            ]
          },
          "metadata": {},
          "execution_count": 19
        }
      ],
      "source": [
        "from ipywidgets import interact,interactive,fixed, interact_manual\n",
        "import ipywidgets as widgets\n",
        "\n",
        "interact(FuncionDiscriminanteGaussiana,Tipo=[('Igual Matriz de Covarianza', 1), ('Diferente Matriz de Covarianza', 0)])"
      ]
    },
    {
      "cell_type": "markdown",
      "metadata": {
        "id": "yVoUu7TDiPTm"
      },
      "source": [
        "----------------------------------------------------------------------------------------------------------------------------------------------"
      ]
    },
    {
      "cell_type": "code",
      "execution_count": 20,
      "metadata": {
        "id": "jDK6asZkiPTn"
      },
      "outputs": [],
      "source": [
        "from matplotlib.patches import Ellipse\n",
        "def plot_ellipse(ax, mu ,sigma):\n",
        "\n",
        "    vals, vecs = np.linalg.eigh(sigma)\n",
        "    \n",
        "    x , y = vecs[:, 0]\n",
        "    theta = np.degrees(np.arctan2(y,x))\n",
        "    \n",
        "    w,h = 4* np.sqrt(vals)\n",
        "    \n",
        "    ax.tick_params(axis='both',which='major',labelsize=10)\n",
        "    ellipse = Ellipse(mu,w,h,theta,color='k')\n",
        "    ellipse.set_alpha(0.2)\n",
        "    ax.add_artist(ellipse)"
      ]
    },
    {
      "cell_type": "markdown",
      "metadata": {
        "id": "YyyfBevPiPTn"
      },
      "source": [
        "**El modelo anterior tiene tres posibles casos:**"
      ]
    },
    {
      "cell_type": "markdown",
      "metadata": {
        "id": "zMT7L4JMiPTn"
      },
      "source": [
        "## **Caso 1: Matriz de covarianza esférica** \n",
        "Si las matrices de covarianza se consideran de la forma: </b> \n",
        "\n",
        "$$\\Sigma = \\sigma^2 {\\bf{I}}$$\n",
        "\n",
        "</b> donde ${\\bf{I}}$ es la matriz identidad.\n",
        "\n",
        "En este caso lo que se asume es todas las características se consideran estadísticamente independientes y de igual varianza. Cada clase se considera como un grupo agrupado dentro de un círculo (hiperesfera) perfecto al rededor de su media."
      ]
    },
    {
      "cell_type": "code",
      "execution_count": 21,
      "metadata": {
        "scrolled": true,
        "id": "KSoSqG04iPTn",
        "outputId": "9763cf54-d131-4eb0-a673-0652c94c8f2f",
        "colab": {
          "base_uri": "https://localhost:8080/",
          "height": 265
        }
      },
      "outputs": [
        {
          "output_type": "display_data",
          "data": {
            "text/plain": [
              "<Figure size 432x288 with 1 Axes>"
            ],
            "image/png": "[encoded data removed]"
          },
          "metadata": {
            "needs_background": "light"
          }
        }
      ],
      "source": [
        "Cov = np.identity(2) * 1.1\n",
        "Mean = [1.1,2.1]\n",
        "Mean2 = [5.1,4.1]\n",
        "ax = plt.subplot(111)\n",
        "x, y  = np.random.multivariate_normal(Mean, Cov, 60).T\n",
        "x2, y2  = np.random.multivariate_normal(Mean2, Cov, 60).T\n",
        "ax.plot(x,y,'x')\n",
        "ax.plot(x2,y2,'x')\n",
        "ax.axis('equal')\n",
        "\n",
        "plot_ellipse(ax,Mean,Cov)\n",
        "plot_ellipse(ax,Mean2,Cov)"
      ]
    },
    {
      "cell_type": "markdown",
      "metadata": {
        "id": "EGD5yLV0iPTq"
      },
      "source": [
        "## **Caso 2: Matriz de covarianza diagonal** \n",
        "Si las matrices de covarianza se consideran diagonales. En este caso lo que se asume es todas las características se consideran estadísticamente independientes pero no de igual varinza. En este caso las clases se consideran agrupadas en parábolas cuyo eje principal puede estar a lo largo de cualquiera de las características. Este modelo es equivalente al clasificador conocido como <b>Naïve Bayes Classifier</b> o clasificador Bayesiano ingenuo (<mark>Consultar</mark>)."
      ]
    },
    {
      "cell_type": "markdown",
      "metadata": {
        "id": "_QIPX8kTiPTr"
      },
      "source": [
        "## **Caso 3: Matriz de covarianza completa** \n",
        "Es el caso más general, en el que las matrices de covarianza de los modelos se consideran completas y las clases se consideran agrupadas en parábolas cuyo eje principal puede estar en cualquier dirección, es por consiguiente el más flexible."
      ]
    },
    {
      "cell_type": "code",
      "execution_count": 22,
      "metadata": {
        "id": "6sXBIQXAiPTs",
        "outputId": "11282573-aef2-444f-d770-c63261493c18",
        "colab": {
          "base_uri": "https://localhost:8080/",
          "height": 265
        }
      },
      "outputs": [
        {
          "output_type": "display_data",
          "data": {
            "text/plain": [
              "<Figure size 432x288 with 1 Axes>"
            ],
            "image/png": "[encoded data removed]"
          },
          "metadata": {
            "needs_background": "light"
          }
        }
      ],
      "source": [
        "Cov = [[1.1,0],[0,2.1]]\n",
        "Cov2 = [[4.1,2],[2,3.1]]\n",
        "Mean = [1.1,2.1]\n",
        "Mean2 = [5.1,4.1]\n",
        "ax = plt.subplot(111)\n",
        "x, y  = np.random.multivariate_normal(Mean, Cov, 60).T\n",
        "x2, y2  = np.random.multivariate_normal(Mean2, Cov2, 60).T\n",
        "ax.plot(x,y,'x')\n",
        "ax.plot(x2,y2,'x')\n",
        "ax.axis('equal')\n",
        "\n",
        "plot_ellipse(ax,Mean,Cov)\n",
        "plot_ellipse(ax,Mean2,Cov2)"
      ]
    },
    {
      "cell_type": "markdown",
      "metadata": {
        "id": "4c81B5iviPTt"
      },
      "source": [
        "Los tres casos anteriores corresponden a:"
      ]
    },
    {
      "cell_type": "code",
      "execution_count": 24,
      "metadata": {
        "id": "G_-VO_UYiPTt",
        "outputId": "5a26dc51-4992-4e54-d3ca-70b897c87a41",
        "colab": {
          "base_uri": "https://localhost:8080/",
          "height": 281
        }
      },
      "outputs": [
        {
          "output_type": "display_data",
          "data": {
            "text/plain": [
              "<Figure size 432x288 with 1 Axes>"
            ],
            "image/png": "[encoded data removed]"
          },
          "metadata": {
            "needs_background": "light"
          }
        }
      ],
      "source": [
        "from sklearn.discriminant_analysis import LinearDiscriminantAnalysis\n",
        "from sklearn.discriminant_analysis import QuadraticDiscriminantAnalysis\n",
        "from sklearn.naive_bayes import GaussianNB\n",
        "\n",
        "clf1 = LinearDiscriminantAnalysis()\n",
        "clf1.fit(X2,Y2.flatten())\n",
        "clf2 = GaussianNB()\n",
        "clf2.fit(X2,Y2.flatten())\n",
        "clf3 = QuadraticDiscriminantAnalysis()\n",
        "clf3.fit(X2,Y2.flatten())\n",
        "plt.scatter(X2[:,0],X2[:,1],c=Y2.flatten(), cmap='Set2',alpha=0.5)\n",
        "\n",
        "h = .02  # step size in the mesh\n",
        "# create a mesh to plot in\n",
        "x_min, x_max = X2[:, 0].min() - 1, X2[:, 0].max() + 1\n",
        "y_min, y_max = X2[:, 1].min() - 1, X2[:, 1].max() + 1\n",
        "xx, yy = np.meshgrid(np.arange(x_min, x_max, h),np.arange(y_min, y_max, h))\n",
        "\n",
        "# Plot the decision boundary. For that, we will assign a color to each\n",
        "# point in the mesh [x_min, m_max]x[y_min, y_max].\n",
        "Z1 = clf1.predict(np.c_[xx.ravel(), yy.ravel()])\n",
        "Z2 = clf2.predict(np.c_[xx.ravel(), yy.ravel()])\n",
        "Z3 = clf3.predict(np.c_[xx.ravel(), yy.ravel()])\n",
        "\n",
        "# Put the result into a color plot\n",
        "Z1 = Z1.reshape(xx.shape)\n",
        "Z2 = Z2.reshape(xx.shape)\n",
        "Z3 = Z3.reshape(xx.shape)\n",
        "cs1 = plt.contour(xx, yy, Z1, colors='green')\n",
        "cs2 = plt.contour(xx, yy, Z2, colors='C0')\n",
        "cs3 = plt.contour(xx, yy, Z3, colors='darkorange')\n",
        "h1,_ = cs1.legend_elements()\n",
        "h2,_ = cs2.legend_elements()\n",
        "h3,_ = cs3.legend_elements()\n",
        "labels = ['Caso 1','Caso 2', 'Caso 3']\n",
        "plt.legend([h1[0], h2[0], h3[0]], ['Caso 1','Caso 2', 'Caso 3'])\n",
        "for i in range(len(labels)):\n",
        "    cs1.collections[i].set_label(labels[i])\n",
        "plt.xlabel('$x_1$')\n",
        "plt.ylabel('$x_2$')\n",
        "plt.grid()"
      ]
    },
    {
      "cell_type": "markdown",
      "metadata": {
        "id": "4_cVavjfiPTv"
      },
      "source": [
        "----------------------------------------------------------------------------------------------------------------------------------------------"
      ]
    },
    {
      "cell_type": "markdown",
      "metadata": {
        "id": "n1qtekFuiPTv"
      },
      "source": [
        "#### NOTA:"
      ]
    },
    {
      "cell_type": "markdown",
      "metadata": {
        "id": "lSRUVMuFiPTw"
      },
      "source": [
        "*   Modelo de clasificación <b>Generativo</b>, porque en la clasificación se realiza modelando cada clase de manera independiente, utilizando un modelo basado en funciones de densidad de probabilidad, que una vez ajustadas, se pueden usar como generadoras de muestras de cada una de las clases.  \n",
        "\n",
        "*   El modelo de clasificación basado en regresión logística, corresponde a un modelo de clasificación <b>Discriminativo</b> porque en ese caso, el modelo se entrenó con muestras de las dos clases al mismo tiempo y el objetivo no era describir una clase u otra, sino, diferenciarlas."
      ]
    }
  ],
  "metadata": {
    "kernelspec": {
      "display_name": "Python 3",
      "language": "python",
      "name": "python3"
    },
    "language_info": {
      "codemirror_mode": {
        "name": "ipython",
        "version": 3
      },
      "file_extension": ".py",
      "mimetype": "text/x-python",
      "name": "python",
      "nbconvert_exporter": "python",
      "pygments_lexer": "ipython3",
      "version": "3.7.6"
    },
    "varInspector": {
      "cols": {
        "lenName": 16,
        "lenType": 16,
        "lenVar": 40
      },
      "kernels_config": {
        "python": {
          "delete_cmd_postfix": "",
          "delete_cmd_prefix": "del ",
          "library": "var_list.py",
          "varRefreshCmd": "print(var_dic_list())"
        },
        "r": {
          "delete_cmd_postfix": ") ",
          "delete_cmd_prefix": "rm(",
          "library": "var_list.r",
          "varRefreshCmd": "cat(var_dic_list()) "
        }
      },
      "types_to_exclude": [
        "module",
        "function",
        "builtin_function_or_method",
        "instance",
        "_Feature"
      ],
      "window_display": false
    },
    "colab": {
      "name": "clase_05_Funciones_discriminantes_Gausianas.ipynb",
      "provenance": []
    },
    "widgets": {
      "application/vnd.jupyter.widget-state+json": {
        "acc07130f1ce45c29674e3057f4ca26e": {
          "model_module": "@jupyter-widgets/controls",
          "model_name": "VBoxModel",
          "model_module_version": "1.5.0",
          "state": {
            "_dom_classes": [
              "widget-interact"
            ],
            "_model_module": "@jupyter-widgets/controls",
            "_model_module_version": "1.5.0",
            "_model_name": "VBoxModel",
            "_view_count": null,
            "_view_module": "@jupyter-widgets/controls",
            "_view_module_version": "1.5.0",
            "_view_name": "VBoxView",
            "box_style": "",
            "children": [
              "IPY_MODEL_258d4c3f40cd44fc80e2f9d10d82fcae",
              "IPY_MODEL_a3963878ec5e4a86b1e02cf462a60c53"
            ],
            "layout": "IPY_MODEL_02d5d5a65db44457bc44827adc398b54"
          }
        },
        "258d4c3f40cd44fc80e2f9d10d82fcae": {
          "model_module": "@jupyter-widgets/controls",
          "model_name": "DropdownModel",
          "model_module_version": "1.5.0",
          "state": {
            "_dom_classes": [],
            "_model_module": "@jupyter-widgets/controls",
            "_model_module_version": "1.5.0",
            "_model_name": "DropdownModel",
            "_options_labels": [
              "Igual Matriz de Covarianza",
              "Diferente Matriz de Covarianza"
            ],
            "_view_count": null,
            "_view_module": "@jupyter-widgets/controls",
            "_view_module_version": "1.5.0",
            "_view_name": "DropdownView",
            "description": "Tipo",
            "description_tooltip": null,
            "disabled": false,
            "index": 0,
            "layout": "IPY_MODEL_db8991326cba41e7973f0d2ff4bd314b",
            "style": "IPY_MODEL_bdb2f96fdb3644909dfc300089509684"
          }
        },
        "a3963878ec5e4a86b1e02cf462a60c53": {
          "model_module": "@jupyter-widgets/output",
          "model_name": "OutputModel",
          "model_module_version": "1.0.0",
          "state": {
            "_dom_classes": [],
            "_model_module": "@jupyter-widgets/output",
            "_model_module_version": "1.0.0",
            "_model_name": "OutputModel",
            "_view_count": null,
            "_view_module": "@jupyter-widgets/output",
            "_view_module_version": "1.0.0",
            "_view_name": "OutputView",
            "layout": "IPY_MODEL_7f4fee6bfead409fa1c56de10b1c097a",
            "msg_id": "",
            "outputs": [
              {
                "output_type": "display_data",
                "data": {
                  "text/plain": "<Figure size 432x288 with 1 Axes>",
                  "image/png": "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\n"
                },
                "metadata": {
                  "needs_background": "light"
                }
              }
            ]
          }
        },
        "02d5d5a65db44457bc44827adc398b54": {
          "model_module": "@jupyter-widgets/base",
          "model_name": "LayoutModel",
          "model_module_version": "1.2.0",
          "state": {
            "_model_module": "@jupyter-widgets/base",
            "_model_module_version": "1.2.0",
            "_model_name": "LayoutModel",
            "_view_count": null,
            "_view_module": "@jupyter-widgets/base",
            "_view_module_version": "1.2.0",
            "_view_name": "LayoutView",
            "align_content": null,
            "align_items": null,
            "align_self": null,
            "border": null,
            "bottom": null,
            "display": null,
            "flex": null,
            "flex_flow": null,
            "grid_area": null,
            "grid_auto_columns": null,
            "grid_auto_flow": null,
            "grid_auto_rows": null,
            "grid_column": null,
            "grid_gap": null,
            "grid_row": null,
            "grid_template_areas": null,
            "grid_template_columns": null,
            "grid_template_rows": null,
            "height": null,
            "justify_content": null,
            "justify_items": null,
            "left": null,
            "margin": null,
            "max_height": null,
            "max_width": null,
            "min_height": null,
            "min_width": null,
            "object_fit": null,
            "object_position": null,
            "order": null,
            "overflow": null,
            "overflow_x": null,
            "overflow_y": null,
            "padding": null,
            "right": null,
            "top": null,
            "visibility": null,
            "width": null
          }
        },
        "db8991326cba41e7973f0d2ff4bd314b": {
          "model_module": "@jupyter-widgets/base",
          "model_name": "LayoutModel",
          "model_module_version": "1.2.0",
          "state": {
            "_model_module": "@jupyter-widgets/base",
            "_model_module_version": "1.2.0",
            "_model_name": "LayoutModel",
            "_view_count": null,
            "_view_module": "@jupyter-widgets/base",
            "_view_module_version": "1.2.0",
            "_view_name": "LayoutView",
            "align_content": null,
            "align_items": null,
            "align_self": null,
            "border": null,
            "bottom": null,
            "display": null,
            "flex": null,
            "flex_flow": null,
            "grid_area": null,
            "grid_auto_columns": null,
            "grid_auto_flow": null,
            "grid_auto_rows": null,
            "grid_column": null,
            "grid_gap": null,
            "grid_row": null,
            "grid_template_areas": null,
            "grid_template_columns": null,
            "grid_template_rows": null,
            "height": null,
            "justify_content": null,
            "justify_items": null,
            "left": null,
            "margin": null,
            "max_height": null,
            "max_width": null,
            "min_height": null,
            "min_width": null,
            "object_fit": null,
            "object_position": null,
            "order": null,
            "overflow": null,
            "overflow_x": null,
            "overflow_y": null,
            "padding": null,
            "right": null,
            "top": null,
            "visibility": null,
            "width": null
          }
        },
        "bdb2f96fdb3644909dfc300089509684": {
          "model_module": "@jupyter-widgets/controls",
          "model_name": "DescriptionStyleModel",
          "model_module_version": "1.5.0",
          "state": {
            "_model_module": "@jupyter-widgets/controls",
            "_model_module_version": "1.5.0",
            "_model_name": "DescriptionStyleModel",
            "_view_count": null,
            "_view_module": "@jupyter-widgets/base",
            "_view_module_version": "1.2.0",
            "_view_name": "StyleView",
            "description_width": ""
          }
        },
        "7f4fee6bfead409fa1c56de10b1c097a": {
          "model_module": "@jupyter-widgets/base",
          "model_name": "LayoutModel",
          "model_module_version": "1.2.0",
          "state": {
            "_model_module": "@jupyter-widgets/base",
            "_model_module_version": "1.2.0",
            "_model_name": "LayoutModel",
            "_view_count": null,
            "_view_module": "@jupyter-widgets/base",
            "_view_module_version": "1.2.0",
            "_view_name": "LayoutView",
            "align_content": null,
            "align_items": null,
            "align_self": null,
            "border": null,
            "bottom": null,
            "display": null,
            "flex": null,
            "flex_flow": null,
            "grid_area": null,
            "grid_auto_columns": null,
            "grid_auto_flow": null,
            "grid_auto_rows": null,
            "grid_column": null,
            "grid_gap": null,
            "grid_row": null,
            "grid_template_areas": null,
            "grid_template_columns": null,
            "grid_template_rows": null,
            "height": null,
            "justify_content": null,
            "justify_items": null,
            "left": null,
            "margin": null,
            "max_height": null,
            "max_width": null,
            "min_height": null,
            "min_width": null,
            "object_fit": null,
            "object_position": null,
            "order": null,
            "overflow": null,
            "overflow_x": null,
            "overflow_y": null,
            "padding": null,
            "right": null,
            "top": null,
            "visibility": null,
            "width": null
          }
        }
      }
    }
  },
  "nbformat": 4,
  "nbformat_minor": 0
}